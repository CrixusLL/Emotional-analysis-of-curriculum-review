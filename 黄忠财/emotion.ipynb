{
  "nbformat": 4,
  "nbformat_minor": 0,
  "metadata": {
    "accelerator": "GPU",
    "colab": {
      "name": "emotion.ipynb",
      "provenance": [],
      "collapsed_sections": []
    },
    "kernelspec": {
      "display_name": "Python 3",
      "name": "python3"
    },
    "language_info": {
      "name": "python"
    }
  },
  "cells": [
    {
      "cell_type": "code",
      "metadata": {
        "id": "vmbRUbzJ8Kv5"
      },
      "source": [
        "from fastai.text import *\n"
      ],
      "execution_count": 1,
      "outputs": []
    },
    {
      "cell_type": "code",
      "metadata": {
        "colab": {
          "base_uri": "https://localhost:8080/"
        },
        "id": "RSVUwD1X8Vj-",
        "outputId": "7d7b77ac-88cc-4059-bc66-c369beee831e"
      },
      "source": [
        "!wget https://raw.githubusercontent.com/Moximixi/Emotional-analysis-of-curriculum-review/main/%E9%BB%84%E5%BF%A0%E8%B4%A2/newtest.csv"
      ],
      "execution_count": 2,
      "outputs": [
        {
          "output_type": "stream",
          "text": [
            "--2021-03-30 10:52:07--  https://raw.githubusercontent.com/Moximixi/Emotional-analysis-of-curriculum-review/main/%E9%BB%84%E5%BF%A0%E8%B4%A2/newtest.csv\n",
            "Resolving raw.githubusercontent.com (raw.githubusercontent.com)... 185.199.108.133, 185.199.109.133, 185.199.110.133, ...\n",
            "Connecting to raw.githubusercontent.com (raw.githubusercontent.com)|185.199.108.133|:443... connected.\n",
            "HTTP request sent, awaiting response... 200 OK\n",
            "Length: 843462 (824K) [text/plain]\n",
            "Saving to: ‘newtest.csv’\n",
            "\n",
            "newtest.csv         100%[===================>] 823.69K  --.-KB/s    in 0.02s   \n",
            "\n",
            "2021-03-30 10:52:07 (42.1 MB/s) - ‘newtest.csv’ saved [843462/843462]\n",
            "\n"
          ],
          "name": "stdout"
        }
      ]
    },
    {
      "cell_type": "code",
      "metadata": {
        "colab": {
          "base_uri": "https://localhost:8080/",
          "height": 402
        },
        "id": "Nf_2dq1S8Ypn",
        "outputId": "53e7be95-0b6c-47f7-8663-bfd60b267fbc"
      },
      "source": [
        "\n",
        "df = pd.read_csv(\"newtest.csv\")\n",
        "df=df.sample(frac=1.0)    #打乱数据集\n",
        "df=df.reset_index(drop=True)\n",
        "df[0:100]\n"
      ],
      "execution_count": 3,
      "outputs": [
        {
          "output_type": "execute_result",
          "data": {
            "text/html": [
              "<div>\n",
              "<style scoped>\n",
              "    .dataframe tbody tr th:only-of-type {\n",
              "        vertical-align: middle;\n",
              "    }\n",
              "\n",
              "    .dataframe tbody tr th {\n",
              "        vertical-align: top;\n",
              "    }\n",
              "\n",
              "    .dataframe thead th {\n",
              "        text-align: right;\n",
              "    }\n",
              "</style>\n",
              "<table border=\"1\" class=\"dataframe\">\n",
              "  <thead>\n",
              "    <tr style=\"text-align: right;\">\n",
              "      <th></th>\n",
              "      <th>comment</th>\n",
              "      <th>sentiment</th>\n",
              "    </tr>\n",
              "  </thead>\n",
              "  <tbody>\n",
              "    <tr>\n",
              "      <th>0</th>\n",
              "      <td>课程内容 丰富新颖，加强了教师职业道德。</td>\n",
              "      <td>1</td>\n",
              "    </tr>\n",
              "    <tr>\n",
              "      <th>1</th>\n",
              "      <td>知识点简洁明了</td>\n",
              "      <td>1</td>\n",
              "    </tr>\n",
              "    <tr>\n",
              "      <th>2</th>\n",
              "      <td>一个很好的科普天文的课程</td>\n",
              "      <td>1</td>\n",
              "    </tr>\n",
              "    <tr>\n",
              "      <th>3</th>\n",
              "      <td>通过学习更加懂得了如何应对新冠疫情防控</td>\n",
              "      <td>1</td>\n",
              "    </tr>\n",
              "    <tr>\n",
              "      <th>4</th>\n",
              "      <td>照着课本念。。。</td>\n",
              "      <td>0</td>\n",
              "    </tr>\n",
              "    <tr>\n",
              "      <th>...</th>\n",
              "      <td>...</td>\n",
              "      <td>...</td>\n",
              "    </tr>\n",
              "    <tr>\n",
              "      <th>95</th>\n",
              "      <td>明显是在完任务啊，一点诚意都木有</td>\n",
              "      <td>0</td>\n",
              "    </tr>\n",
              "    <tr>\n",
              "      <th>96</th>\n",
              "      <td>非常好的课程。这是第一次觉得线上的课程也有这么优质的，特别棒。</td>\n",
              "      <td>1</td>\n",
              "    </tr>\n",
              "    <tr>\n",
              "      <th>97</th>\n",
              "      <td>每位老师上课都讲得十分清楚，细致，值得学习！！！</td>\n",
              "      <td>1</td>\n",
              "    </tr>\n",
              "    <tr>\n",
              "      <th>98</th>\n",
              "      <td>辣鸡，这怎么不能看啊！还有哪个进度条怎么也满不了，真要命</td>\n",
              "      <td>0</td>\n",
              "    </tr>\n",
              "    <tr>\n",
              "      <th>99</th>\n",
              "      <td>3节课加题上完课答完题之后，显示我只完成了四分之一</td>\n",
              "      <td>0</td>\n",
              "    </tr>\n",
              "  </tbody>\n",
              "</table>\n",
              "<p>100 rows × 2 columns</p>\n",
              "</div>"
            ],
            "text/plain": [
              "                            comment  sentiment\n",
              "0              课程内容 丰富新颖，加强了教师职业道德。          1\n",
              "1                           知识点简洁明了          1\n",
              "2                      一个很好的科普天文的课程          1\n",
              "3               通过学习更加懂得了如何应对新冠疫情防控          1\n",
              "4                          照着课本念。。。          0\n",
              "..                              ...        ...\n",
              "95                 明显是在完任务啊，一点诚意都木有          0\n",
              "96  非常好的课程。这是第一次觉得线上的课程也有这么优质的，特别棒。          1\n",
              "97         每位老师上课都讲得十分清楚，细致，值得学习！！！          1\n",
              "98     辣鸡，这怎么不能看啊！还有哪个进度条怎么也满不了，真要命          0\n",
              "99        3节课加题上完课答完题之后，显示我只完成了四分之一          0\n",
              "\n",
              "[100 rows x 2 columns]"
            ]
          },
          "metadata": {
            "tags": []
          },
          "execution_count": 3
        }
      ]
    },
    {
      "cell_type": "code",
      "metadata": {
        "id": "FMYEqevq8dUP"
      },
      "source": [
        "from sklearn.model_selection import train_test_split"
      ],
      "execution_count": 4,
      "outputs": []
    },
    {
      "cell_type": "code",
      "metadata": {
        "colab": {
          "base_uri": "https://localhost:8080/",
          "height": 195
        },
        "id": "OUsze4nh8ib2",
        "outputId": "4f7e75fb-32b1-422f-cd99-7f827dd2f609"
      },
      "source": [
        "train, test = train_test_split(df, test_size=.2, random_state=2)\n",
        "train, valid = train_test_split(train, test_size=.2, random_state=2)\n",
        "train.head()\n",
        "#划分训练测试和验证集"
      ],
      "execution_count": 5,
      "outputs": [
        {
          "output_type": "execute_result",
          "data": {
            "text/html": [
              "<div>\n",
              "<style scoped>\n",
              "    .dataframe tbody tr th:only-of-type {\n",
              "        vertical-align: middle;\n",
              "    }\n",
              "\n",
              "    .dataframe tbody tr th {\n",
              "        vertical-align: top;\n",
              "    }\n",
              "\n",
              "    .dataframe thead th {\n",
              "        text-align: right;\n",
              "    }\n",
              "</style>\n",
              "<table border=\"1\" class=\"dataframe\">\n",
              "  <thead>\n",
              "    <tr style=\"text-align: right;\">\n",
              "      <th></th>\n",
              "      <th>comment</th>\n",
              "      <th>sentiment</th>\n",
              "    </tr>\n",
              "  </thead>\n",
              "  <tbody>\n",
              "    <tr>\n",
              "      <th>2041</th>\n",
              "      <td>老师讲课水平相当菜，完全照读PPT，要我讲我都比他讲的有激情。2min内鉴定完毕。。。</td>\n",
              "      <td>0</td>\n",
              "    </tr>\n",
              "    <tr>\n",
              "      <th>5492</th>\n",
              "      <td>讲的不行，下架吧别在这丢华科的人了</td>\n",
              "      <td>0</td>\n",
              "    </tr>\n",
              "    <tr>\n",
              "      <th>7112</th>\n",
              "      <td>传说中的PPT老师，内容严重过时，实在不敢相信还是国家精品</td>\n",
              "      <td>0</td>\n",
              "    </tr>\n",
              "    <tr>\n",
              "      <th>2620</th>\n",
              "      <td>坑课，填空题巨坑，念PPT都念错，声音还和猫一样小，武大的测绘出名不应该这么多PPT老师，数...</td>\n",
              "      <td>0</td>\n",
              "    </tr>\n",
              "    <tr>\n",
              "      <th>3585</th>\n",
              "      <td>慕课的质量都比较高，可以学到很多实用的知识。</td>\n",
              "      <td>1</td>\n",
              "    </tr>\n",
              "  </tbody>\n",
              "</table>\n",
              "</div>"
            ],
            "text/plain": [
              "                                                comment  sentiment\n",
              "2041        老师讲课水平相当菜，完全照读PPT，要我讲我都比他讲的有激情。2min内鉴定完毕。。。          0\n",
              "5492                                  讲的不行，下架吧别在这丢华科的人了          0\n",
              "7112                      传说中的PPT老师，内容严重过时，实在不敢相信还是国家精品          0\n",
              "2620  坑课，填空题巨坑，念PPT都念错，声音还和猫一样小，武大的测绘出名不应该这么多PPT老师，数...          0\n",
              "3585                             慕课的质量都比较高，可以学到很多实用的知识。          1"
            ]
          },
          "metadata": {
            "tags": []
          },
          "execution_count": 5
        }
      ]
    },
    {
      "cell_type": "code",
      "metadata": {
        "colab": {
          "base_uri": "https://localhost:8080/"
        },
        "id": "OlCugavX9Yr2",
        "outputId": "f1aacf18-d490-464a-8f90-3c1bfce90d1a"
      },
      "source": [
        "!pip install pytorch-transformers"
      ],
      "execution_count": 6,
      "outputs": [
        {
          "output_type": "stream",
          "text": [
            "Collecting pytorch-transformers\n",
            "\u001b[?25l  Downloading https://files.pythonhosted.org/packages/a3/b7/d3d18008a67e0b968d1ab93ad444fc05699403fa662f634b2f2c318a508b/pytorch_transformers-1.2.0-py3-none-any.whl (176kB)\n",
            "\r\u001b[K     |█▉                              | 10kB 25.7MB/s eta 0:00:01\r\u001b[K     |███▊                            | 20kB 30.0MB/s eta 0:00:01\r\u001b[K     |█████▋                          | 30kB 20.8MB/s eta 0:00:01\r\u001b[K     |███████▍                        | 40kB 24.2MB/s eta 0:00:01\r\u001b[K     |█████████▎                      | 51kB 22.7MB/s eta 0:00:01\r\u001b[K     |███████████▏                    | 61kB 16.9MB/s eta 0:00:01\r\u001b[K     |█████████████                   | 71kB 17.3MB/s eta 0:00:01\r\u001b[K     |██████████████▉                 | 81kB 18.0MB/s eta 0:00:01\r\u001b[K     |████████████████▊               | 92kB 17.2MB/s eta 0:00:01\r\u001b[K     |██████████████████▋             | 102kB 17.2MB/s eta 0:00:01\r\u001b[K     |████████████████████▍           | 112kB 17.2MB/s eta 0:00:01\r\u001b[K     |██████████████████████▎         | 122kB 17.2MB/s eta 0:00:01\r\u001b[K     |████████████████████████▏       | 133kB 17.2MB/s eta 0:00:01\r\u001b[K     |██████████████████████████      | 143kB 17.2MB/s eta 0:00:01\r\u001b[K     |███████████████████████████▉    | 153kB 17.2MB/s eta 0:00:01\r\u001b[K     |█████████████████████████████▊  | 163kB 17.2MB/s eta 0:00:01\r\u001b[K     |███████████████████████████████▋| 174kB 17.2MB/s eta 0:00:01\r\u001b[K     |████████████████████████████████| 184kB 17.2MB/s \n",
            "\u001b[?25hRequirement already satisfied: regex in /usr/local/lib/python3.7/dist-packages (from pytorch-transformers) (2019.12.20)\n",
            "Requirement already satisfied: numpy in /usr/local/lib/python3.7/dist-packages (from pytorch-transformers) (1.19.5)\n",
            "Requirement already satisfied: tqdm in /usr/local/lib/python3.7/dist-packages (from pytorch-transformers) (4.41.1)\n",
            "Requirement already satisfied: torch>=1.0.0 in /usr/local/lib/python3.7/dist-packages (from pytorch-transformers) (1.8.0+cu101)\n",
            "Collecting sentencepiece\n",
            "\u001b[?25l  Downloading https://files.pythonhosted.org/packages/f5/99/e0808cb947ba10f575839c43e8fafc9cc44e4a7a2c8f79c60db48220a577/sentencepiece-0.1.95-cp37-cp37m-manylinux2014_x86_64.whl (1.2MB)\n",
            "\u001b[K     |████████████████████████████████| 1.2MB 44.4MB/s \n",
            "\u001b[?25hRequirement already satisfied: requests in /usr/local/lib/python3.7/dist-packages (from pytorch-transformers) (2.23.0)\n",
            "Collecting sacremoses\n",
            "\u001b[?25l  Downloading https://files.pythonhosted.org/packages/7d/34/09d19aff26edcc8eb2a01bed8e98f13a1537005d31e95233fd48216eed10/sacremoses-0.0.43.tar.gz (883kB)\n",
            "\u001b[K     |████████████████████████████████| 890kB 58.5MB/s \n",
            "\u001b[?25hCollecting boto3\n",
            "\u001b[?25l  Downloading https://files.pythonhosted.org/packages/51/20/5ff370fbf725096cedb4860d7791aef45fc5df83bfde4e6d23abfed58632/boto3-1.17.40.tar.gz (99kB)\n",
            "\u001b[K     |████████████████████████████████| 102kB 12.3MB/s \n",
            "\u001b[?25hRequirement already satisfied: typing-extensions in /usr/local/lib/python3.7/dist-packages (from torch>=1.0.0->pytorch-transformers) (3.7.4.3)\n",
            "Requirement already satisfied: certifi>=2017.4.17 in /usr/local/lib/python3.7/dist-packages (from requests->pytorch-transformers) (2020.12.5)\n",
            "Requirement already satisfied: urllib3!=1.25.0,!=1.25.1,<1.26,>=1.21.1 in /usr/local/lib/python3.7/dist-packages (from requests->pytorch-transformers) (1.24.3)\n",
            "Requirement already satisfied: chardet<4,>=3.0.2 in /usr/local/lib/python3.7/dist-packages (from requests->pytorch-transformers) (3.0.4)\n",
            "Requirement already satisfied: idna<3,>=2.5 in /usr/local/lib/python3.7/dist-packages (from requests->pytorch-transformers) (2.10)\n",
            "Requirement already satisfied: six in /usr/local/lib/python3.7/dist-packages (from sacremoses->pytorch-transformers) (1.15.0)\n",
            "Requirement already satisfied: click in /usr/local/lib/python3.7/dist-packages (from sacremoses->pytorch-transformers) (7.1.2)\n",
            "Requirement already satisfied: joblib in /usr/local/lib/python3.7/dist-packages (from sacremoses->pytorch-transformers) (1.0.1)\n",
            "Collecting botocore<1.21.0,>=1.20.40\n",
            "\u001b[?25l  Downloading https://files.pythonhosted.org/packages/23/d7/f92f8eb20a4d54d2d2b34a40449346503a15733b9d63b7c03dd01f35c473/botocore-1.20.40-py2.py3-none-any.whl (7.3MB)\n",
            "\u001b[K     |████████████████████████████████| 7.4MB 51.5MB/s \n",
            "\u001b[?25hCollecting jmespath<1.0.0,>=0.7.1\n",
            "  Downloading https://files.pythonhosted.org/packages/07/cb/5f001272b6faeb23c1c9e0acc04d48eaaf5c862c17709d20e3469c6e0139/jmespath-0.10.0-py2.py3-none-any.whl\n",
            "Collecting s3transfer<0.4.0,>=0.3.0\n",
            "\u001b[?25l  Downloading https://files.pythonhosted.org/packages/98/14/0b4be62b65c52d6d1c442f24e02d2a9889a73d3c352002e14c70f84a679f/s3transfer-0.3.6-py2.py3-none-any.whl (73kB)\n",
            "\u001b[K     |████████████████████████████████| 81kB 10.8MB/s \n",
            "\u001b[?25hRequirement already satisfied: python-dateutil<3.0.0,>=2.1 in /usr/local/lib/python3.7/dist-packages (from botocore<1.21.0,>=1.20.40->boto3->pytorch-transformers) (2.8.1)\n",
            "Building wheels for collected packages: sacremoses, boto3\n",
            "  Building wheel for sacremoses (setup.py) ... \u001b[?25l\u001b[?25hdone\n",
            "  Created wheel for sacremoses: filename=sacremoses-0.0.43-cp37-none-any.whl size=893262 sha256=255413f007106420fca4a43bdad46f8f68b381dda8617b7fdfed684fa4f949a5\n",
            "  Stored in directory: /root/.cache/pip/wheels/29/3c/fd/7ce5c3f0666dab31a50123635e6fb5e19ceb42ce38d4e58f45\n",
            "  Building wheel for boto3 (setup.py) ... \u001b[?25l\u001b[?25hdone\n",
            "  Created wheel for boto3: filename=boto3-1.17.40-py2.py3-none-any.whl size=128777 sha256=a91fd3719f72a788cb38b6ca06e2e424902dac771efcb08c1419bbc9e5d66639\n",
            "  Stored in directory: /root/.cache/pip/wheels/bd/6f/50/2aad26d403ab8ea8afdc92a5ce8abb2347b4a42c7d1be4ee79\n",
            "Successfully built sacremoses boto3\n",
            "\u001b[31mERROR: botocore 1.20.40 has requirement urllib3<1.27,>=1.25.4, but you'll have urllib3 1.24.3 which is incompatible.\u001b[0m\n",
            "Installing collected packages: sentencepiece, sacremoses, jmespath, botocore, s3transfer, boto3, pytorch-transformers\n",
            "Successfully installed boto3-1.17.40 botocore-1.20.40 jmespath-0.10.0 pytorch-transformers-1.2.0 s3transfer-0.3.6 sacremoses-0.0.43 sentencepiece-0.1.95\n"
          ],
          "name": "stdout"
        }
      ]
    },
    {
      "cell_type": "code",
      "metadata": {
        "id": "tFSPaLA5_9YV"
      },
      "source": [
        "from pytorch_transformers import BertTokenizer, BertForSequenceClassification"
      ],
      "execution_count": 7,
      "outputs": []
    },
    {
      "cell_type": "code",
      "metadata": {
        "id": "pydgvYM1AFnn"
      },
      "source": [
        "bert_model = \"bert-base-chinese\"\n",
        "max_seq_len = 128\n",
        "batch_size = 32"
      ],
      "execution_count": 8,
      "outputs": []
    },
    {
      "cell_type": "code",
      "metadata": {
        "colab": {
          "base_uri": "https://localhost:8080/"
        },
        "id": "-9BhEkp_AJQw",
        "outputId": "6eab9dd0-ee16-4971-bea4-36ee6a2d813a"
      },
      "source": [
        "bert_tokenizer = BertTokenizer.from_pretrained(bert_model)  \n",
        "#读取预置的 Tokenizer "
      ],
      "execution_count": 9,
      "outputs": [
        {
          "output_type": "stream",
          "text": [
            "100%|██████████| 109540/109540 [00:00<00:00, 13016149.93B/s]\n"
          ],
          "name": "stderr"
        }
      ]
    },
    {
      "cell_type": "code",
      "metadata": {
        "colab": {
          "base_uri": "https://localhost:8080/"
        },
        "id": "VcbNpEAlCWKx",
        "outputId": "ae0cb210-326b-45ae-b8f2-a751e36ced21"
      },
      "source": [
        "list(bert_tokenizer.vocab.items())[2000:2005]"
      ],
      "execution_count": 10,
      "outputs": [
        {
          "output_type": "execute_result",
          "data": {
            "text/plain": [
              "[('姗', 2000), ('姚', 2001), ('姜', 2002), ('姝', 2003), ('姣', 2004)]"
            ]
          },
          "metadata": {
            "tags": []
          },
          "execution_count": 10
        }
      ]
    },
    {
      "cell_type": "code",
      "metadata": {
        "id": "tSr9d6AECeJ1"
      },
      "source": [
        "bert_vocab = Vocab(list(bert_tokenizer.vocab.keys()))\n",
        "#词汇列表存储"
      ],
      "execution_count": 11,
      "outputs": []
    },
    {
      "cell_type": "code",
      "metadata": {
        "id": "btqda_SwDEOB"
      },
      "source": [
        "class BertFastaiTokenizer(BaseTokenizer):\n",
        "    def __init__(self, tokenizer, max_seq_len=128, **kwargs):\n",
        "        self.pretrained_tokenizer = tokenizer\n",
        "        self.max_seq_len = max_seq_len\n",
        "\n",
        "    def __call__(self, *args, **kwargs):\n",
        "        return self\n",
        "\n",
        "    def tokenizer(self, t):\n",
        "        return [\"[CLS]\"] + self.pretrained_tokenizer.tokenize(t)[:self.max_seq_len - 2] + [\"[SEP]\"]"
      ],
      "execution_count": 12,
      "outputs": []
    },
    {
      "cell_type": "code",
      "metadata": {
        "id": "hBF5qM90DLvc"
      },
      "source": [
        "tok_func = BertFastaiTokenizer(bert_tokenizer, max_seq_len=max_seq_len)\n",
        "#将类调用保存为函数"
      ],
      "execution_count": 13,
      "outputs": []
    },
    {
      "cell_type": "code",
      "metadata": {
        "id": "knMuhpO4D4aE"
      },
      "source": [
        "bert_fastai_tokenizer = Tokenizer(\n",
        "    tok_func=tok_func,\n",
        "    pre_rules = [],\n",
        "    post_rules = []\n",
        ")\n"
      ],
      "execution_count": 14,
      "outputs": []
    },
    {
      "cell_type": "code",
      "metadata": {
        "id": "YTjIdTl_D_6P"
      },
      "source": [
        "path = Path(\".\") #设置路径"
      ],
      "execution_count": 15,
      "outputs": []
    },
    {
      "cell_type": "code",
      "metadata": {
        "colab": {
          "base_uri": "https://localhost:8080/",
          "height": 121
        },
        "id": "ggm8-xRpFHUX",
        "outputId": "34dfe20a-b7fa-4f8a-9112-6d1552c69990"
      },
      "source": [
        "databunch = TextClasDataBunch.from_df(path, train, valid, test,\n",
        "                  tokenizer=bert_fastai_tokenizer,\n",
        "                  vocab=bert_vocab,\n",
        "                  include_bos=False,\n",
        "                  include_eos=False,\n",
        "                  text_cols=\"comment\",\n",
        "                  label_cols='sentiment',\n",
        "                  bs=batch_size,\n",
        "                  collate_fn=partial(pad_collate, pad_first=False, pad_idx=0),\n",
        "                  pin_memory=True,\n",
        "                  num_workers = 1,\n",
        "                  device=torch.device(\"cuda\")\n",
        "             )"
      ],
      "execution_count": 16,
      "outputs": [
        {
          "output_type": "display_data",
          "data": {
            "text/html": [
              ""
            ],
            "text/plain": [
              "<IPython.core.display.HTML object>"
            ]
          },
          "metadata": {
            "tags": []
          }
        },
        {
          "output_type": "stream",
          "text": [
            "/usr/local/lib/python3.7/dist-packages/fastai/core.py:302: VisibleDeprecationWarning: Creating an ndarray from ragged nested sequences (which is a list-or-tuple of lists-or-tuples-or ndarrays with different lengths or shapes) is deprecated. If you meant to do this, you must specify 'dtype=object' when creating the ndarray\n",
            "  return np.array(a, dtype=dtype, **kwargs)\n"
          ],
          "name": "stderr"
        },
        {
          "output_type": "display_data",
          "data": {
            "text/html": [
              ""
            ],
            "text/plain": [
              "<IPython.core.display.HTML object>"
            ]
          },
          "metadata": {
            "tags": []
          }
        },
        {
          "output_type": "display_data",
          "data": {
            "text/html": [
              ""
            ],
            "text/plain": [
              "<IPython.core.display.HTML object>"
            ]
          },
          "metadata": {
            "tags": []
          }
        },
        {
          "output_type": "stream",
          "text": [
            "/usr/local/lib/python3.7/dist-packages/numpy/core/_asarray.py:83: VisibleDeprecationWarning: Creating an ndarray from ragged nested sequences (which is a list-or-tuple of lists-or-tuples-or ndarrays with different lengths or shapes) is deprecated. If you meant to do this, you must specify 'dtype=object' when creating the ndarray\n",
            "  return array(a, dtype, copy=False, order=order)\n",
            "<string>:6: VisibleDeprecationWarning: Creating an ndarray from ragged nested sequences (which is a list-or-tuple of lists-or-tuples-or ndarrays with different lengths or shapes) is deprecated. If you meant to do this, you must specify 'dtype=object' when creating the ndarray\n"
          ],
          "name": "stderr"
        }
      ]
    },
    {
      "cell_type": "code",
      "metadata": {
        "colab": {
          "base_uri": "https://localhost:8080/",
          "height": 266
        },
        "id": "yzusA49dFPdB",
        "outputId": "03b1a735-d35e-406a-b404-d1ad2390dbb3"
      },
      "source": [
        "databunch.show_batch()"
      ],
      "execution_count": 17,
      "outputs": [
        {
          "output_type": "stream",
          "text": [
            "/usr/local/lib/python3.7/dist-packages/numpy/core/_asarray.py:83: VisibleDeprecationWarning: Creating an ndarray from ragged nested sequences (which is a list-or-tuple of lists-or-tuples-or ndarrays with different lengths or shapes) is deprecated. If you meant to do this, you must specify 'dtype=object' when creating the ndarray\n",
            "  return array(a, dtype, copy=False, order=order)\n",
            "<string>:6: VisibleDeprecationWarning: Creating an ndarray from ragged nested sequences (which is a list-or-tuple of lists-or-tuples-or ndarrays with different lengths or shapes) is deprecated. If you meant to do this, you must specify 'dtype=object' when creating the ndarray\n"
          ],
          "name": "stderr"
        },
        {
          "output_type": "display_data",
          "data": {
            "text/html": [
              "<table border=\"1\" class=\"dataframe\">\n",
              "  <thead>\n",
              "    <tr style=\"text-align: right;\">\n",
              "      <th>text</th>\n",
              "      <th>target</th>\n",
              "    </tr>\n",
              "  </thead>\n",
              "  <tbody>\n",
              "    <tr>\n",
              "      <td>[CLS] 追 评 ： 不 但 出 分 效 率 特 别 低 ， 而 且 不 明 不 白 太 疯 狂 少 了 10 分 （ 10 分 平 时 成 绩 是 什 么 鬼 ？ 如 果 是 讨 论 的 话 课 堂 交 流 区 一 个 讨 论 题 都 没 有 ？ ？ ） ， 课 程 团 队 很 不 负</td>\n",
              "      <td>0</td>\n",
              "    </tr>\n",
              "    <tr>\n",
              "      <td>[CLS] 我 是 一 名 普 通 的 战 士 ， 虽 然 没 学 过 唱 歌 ， 但 也 很 喜 欢 唱 歌 ， 所 以 看 到 林 老 师 这 门 课 时 我 毫 不 犹 豫 报 名 了 。 因 为 没 有 学 过 唱 歌 ， 平 日 唱 军 歌 、 喊 口 号 时 都 是 用 嗓</td>\n",
              "      <td>1</td>\n",
              "    </tr>\n",
              "    <tr>\n",
              "      <td>[CLS] 作 业 不 知 道 怎 么 布 置 的 ， 第 八 、 九 单 元 测 验 1 月 9 日 截 止 ， 往 后 的 第 十 单 元 测 验 放 出 来 没 几 天 12 月 13 日 截 止 。 逻 辑 鬼 才 。 对 非 专 业 的 学 生 极 度 不 友 好 ， 完 全 是</td>\n",
              "      <td>0</td>\n",
              "    </tr>\n",
              "    <tr>\n",
              "      <td>[CLS] 这 门 课 程 开 设 的 慕 课 ， 为 我 们 更 全 面 地 了 解 、 学 习 思 修 这 门 课 程 。 慕 课 中 的 老 师 通 过 视 频 讲 解 的 形 式 ， 生 动 形 象 地 讲 解 了 这 门 课 程 的 知 识 点 。 又 有 测 验 与 讨 论</td>\n",
              "      <td>1</td>\n",
              "    </tr>\n",
              "    <tr>\n",
              "      <td>[CLS] 每 一 章 都 有 导 学 案 ， 可 以 让 我 们 很 清 楚 的 知 道 该 干 什 么 ， 而 且 作 业 量 适 中 ， 能 起 到 很 好 的 学 习 作 用 。 每 一 章 都 有 详 尽 的 视 频 资 料 和 [UNK] 资 料 ， 可 以 看 出 老 师 们 很</td>\n",
              "      <td>1</td>\n",
              "    </tr>\n",
              "  </tbody>\n",
              "</table>"
            ],
            "text/plain": [
              "<IPython.core.display.HTML object>"
            ]
          },
          "metadata": {
            "tags": []
          }
        }
      ]
    },
    {
      "cell_type": "code",
      "metadata": {
        "colab": {
          "base_uri": "https://localhost:8080/"
        },
        "id": "nod6gdvlHD1c",
        "outputId": "21a14b24-1ef8-4603-94cc-db961b3ddf04"
      },
      "source": [
        "class MyNoTupleModel(BertForSequenceClassification):\n",
        "  def forward(self, *args, **kwargs):\n",
        "    return super().forward(*args, **kwargs)[0]\n",
        "bert_pretrained_model = MyNoTupleModel.from_pretrained(bert_model, num_labels=2)  #2分类任务"
      ],
      "execution_count": 18,
      "outputs": [
        {
          "output_type": "stream",
          "text": [
            "100%|██████████| 624/624 [00:00<00:00, 182564.57B/s]\n",
            "100%|██████████| 411577189/411577189 [00:07<00:00, 58032391.22B/s]\n"
          ],
          "name": "stderr"
        }
      ]
    },
    {
      "cell_type": "markdown",
      "metadata": {
        "id": "S5_oyhY55mTx"
      },
      "source": [
        ""
      ]
    },
    {
      "cell_type": "code",
      "metadata": {
        "id": "jZYNuWS1Hmfj"
      },
      "source": [
        "loss_func = nn.CrossEntropyLoss()"
      ],
      "execution_count": 19,
      "outputs": []
    },
    {
      "cell_type": "code",
      "metadata": {
        "id": "393tRPXOHpFJ"
      },
      "source": [
        "learn = Learner(databunch,#数据\n",
        "                bert_pretrained_model,#模型\n",
        "                loss_func=loss_func,#损失函数\n",
        "                metrics=accuracy)"
      ],
      "execution_count": 20,
      "outputs": []
    },
    {
      "cell_type": "code",
      "metadata": {
        "colab": {
          "base_uri": "https://localhost:8080/",
          "height": 181
        },
        "id": "1_3pcu_pHrCh",
        "outputId": "8eff1dd0-b55d-454a-e14a-adc9c52b6cf1"
      },
      "source": [
        "learn.lr_find()#寻找最大学习速率"
      ],
      "execution_count": 21,
      "outputs": [
        {
          "output_type": "display_data",
          "data": {
            "text/html": [
              "\n",
              "    <div>\n",
              "        <style>\n",
              "            /* Turns off some styling */\n",
              "            progress {\n",
              "                /* gets rid of default border in Firefox and Opera. */\n",
              "                border: none;\n",
              "                /* Needs to be in here for Safari polyfill so background images work as expected. */\n",
              "                background-size: auto;\n",
              "            }\n",
              "            .progress-bar-interrupted, .progress-bar-interrupted::-webkit-progress-bar {\n",
              "                background: #F44336;\n",
              "            }\n",
              "        </style>\n",
              "      <progress value='0' class='' max='1' style='width:300px; height:20px; vertical-align: middle;'></progress>\n",
              "      0.00% [0/1 00:00<00:00]\n",
              "    </div>\n",
              "    \n",
              "<table border=\"1\" class=\"dataframe\">\n",
              "  <thead>\n",
              "    <tr style=\"text-align: left;\">\n",
              "      <th>epoch</th>\n",
              "      <th>train_loss</th>\n",
              "      <th>valid_loss</th>\n",
              "      <th>accuracy</th>\n",
              "      <th>time</th>\n",
              "    </tr>\n",
              "  </thead>\n",
              "  <tbody>\n",
              "  </tbody>\n",
              "</table><p>\n",
              "\n",
              "    <div>\n",
              "        <style>\n",
              "            /* Turns off some styling */\n",
              "            progress {\n",
              "                /* gets rid of default border in Firefox and Opera. */\n",
              "                border: none;\n",
              "                /* Needs to be in here for Safari polyfill so background images work as expected. */\n",
              "                background-size: auto;\n",
              "            }\n",
              "            .progress-bar-interrupted, .progress-bar-interrupted::-webkit-progress-bar {\n",
              "                background: #F44336;\n",
              "            }\n",
              "        </style>\n",
              "      <progress value='80' class='' max='226' style='width:300px; height:20px; vertical-align: middle;'></progress>\n",
              "      35.40% [80/226 00:16<00:30 2.0417]\n",
              "    </div>\n",
              "    "
            ],
            "text/plain": [
              "<IPython.core.display.HTML object>"
            ]
          },
          "metadata": {
            "tags": []
          }
        },
        {
          "output_type": "stream",
          "text": [
            "/usr/local/lib/python3.7/dist-packages/numpy/core/_asarray.py:83: VisibleDeprecationWarning: Creating an ndarray from ragged nested sequences (which is a list-or-tuple of lists-or-tuples-or ndarrays with different lengths or shapes) is deprecated. If you meant to do this, you must specify 'dtype=object' when creating the ndarray\n",
            "  return array(a, dtype, copy=False, order=order)\n",
            "<string>:6: VisibleDeprecationWarning: Creating an ndarray from ragged nested sequences (which is a list-or-tuple of lists-or-tuples-or ndarrays with different lengths or shapes) is deprecated. If you meant to do this, you must specify 'dtype=object' when creating the ndarray\n"
          ],
          "name": "stderr"
        },
        {
          "output_type": "stream",
          "text": [
            "LR Finder is complete, type {learner_name}.recorder.plot() to see the graph.\n"
          ],
          "name": "stdout"
        }
      ]
    },
    {
      "cell_type": "code",
      "metadata": {
        "colab": {
          "base_uri": "https://localhost:8080/",
          "height": 281
        },
        "id": "liEcVlQEXeZq",
        "outputId": "89be0447-5589-425a-e805-56ef00cf9533"
      },
      "source": [
        "learn.recorder.plot()"
      ],
      "execution_count": 22,
      "outputs": [
        {
          "output_type": "display_data",
          "data": {
            "image/png": "[encoded data removed]",
            "text/plain": [
              "<Figure size 432x288 with 1 Axes>"
            ]
          },
          "metadata": {
            "tags": [],
            "needs_background": "light"
          }
        }
      ]
    },
    {
      "cell_type": "code",
      "metadata": {
        "colab": {
          "base_uri": "https://localhost:8080/",
          "height": 206
        },
        "id": "Llu1iIUuXz3b",
        "outputId": "9e04d6e6-18f2-4d35-c2e8-90c686bff047"
      },
      "source": [
        "learn.fit_one_cycle(3,2e-5)\n",
        "#模型准确度上升了0.03"
      ],
      "execution_count": 24,
      "outputs": [
        {
          "output_type": "display_data",
          "data": {
            "text/html": [
              "<table border=\"1\" class=\"dataframe\">\n",
              "  <thead>\n",
              "    <tr style=\"text-align: left;\">\n",
              "      <th>epoch</th>\n",
              "      <th>train_loss</th>\n",
              "      <th>valid_loss</th>\n",
              "      <th>accuracy</th>\n",
              "      <th>time</th>\n",
              "    </tr>\n",
              "  </thead>\n",
              "  <tbody>\n",
              "    <tr>\n",
              "      <td>0</td>\n",
              "      <td>0.213829</td>\n",
              "      <td>0.188341</td>\n",
              "      <td>0.948647</td>\n",
              "      <td>00:52</td>\n",
              "    </tr>\n",
              "    <tr>\n",
              "      <td>1</td>\n",
              "      <td>0.179373</td>\n",
              "      <td>0.168468</td>\n",
              "      <td>0.948647</td>\n",
              "      <td>00:48</td>\n",
              "    </tr>\n",
              "    <tr>\n",
              "      <td>2</td>\n",
              "      <td>0.131543</td>\n",
              "      <td>0.172907</td>\n",
              "      <td>0.953065</td>\n",
              "      <td>00:51</td>\n",
              "    </tr>\n",
              "  </tbody>\n",
              "</table>"
            ],
            "text/plain": [
              "<IPython.core.display.HTML object>"
            ]
          },
          "metadata": {
            "tags": []
          }
        },
        {
          "output_type": "stream",
          "text": [
            "/usr/local/lib/python3.7/dist-packages/numpy/core/_asarray.py:83: VisibleDeprecationWarning: Creating an ndarray from ragged nested sequences (which is a list-or-tuple of lists-or-tuples-or ndarrays with different lengths or shapes) is deprecated. If you meant to do this, you must specify 'dtype=object' when creating the ndarray\n",
            "  return array(a, dtype, copy=False, order=order)\n",
            "<string>:6: VisibleDeprecationWarning: Creating an ndarray from ragged nested sequences (which is a list-or-tuple of lists-or-tuples-or ndarrays with different lengths or shapes) is deprecated. If you meant to do this, you must specify 'dtype=object' when creating the ndarray\n"
          ],
          "name": "stderr"
        }
      ]
    },
    {
      "cell_type": "code",
      "metadata": {
        "id": "6QuoR3nwX7ju"
      },
      "source": [
        "def dumb_series_prediction(n):\n",
        "  preds = []\n",
        "  for loc in range(n):\n",
        "    preds.append(int(learn.predict(test.iloc[loc]['comment'])[1]))\n",
        "  return preds"
      ],
      "execution_count": 25,
      "outputs": []
    },
    {
      "cell_type": "code",
      "metadata": {
        "id": "6mrKAYoXfLJC"
      },
      "source": [
        "preds = dumb_series_prediction(len(test))"
      ],
      "execution_count": 26,
      "outputs": []
    },
    {
      "cell_type": "code",
      "metadata": {
        "colab": {
          "base_uri": "https://localhost:8080/"
        },
        "id": "S_3dwpEKfNXj",
        "outputId": "30ece299-08c9-4faf-8576-98bff2d84f30"
      },
      "source": [
        "print(preds[40:60])\n",
        "print(test[40:60])\n",
        "#测试问题1：准确率相对较低\n",
        "#2：向前参考可能较少"
      ],
      "execution_count": 27,
      "outputs": [
        {
          "output_type": "stream",
          "text": [
            "[0, 0, 1, 0, 0, 1, 1, 1, 1, 0, 1, 0, 1, 1, 0, 1, 1, 1, 0, 0]\n",
            "                                                 comment  sentiment\n",
            "9704                                            下载不了是为什么          0\n",
            "8628                                       大家的课是不是只有第一章啊          1\n",
            "166                                       极好的课程，娓娓道来十分有趣          1\n",
            "1220                                         这个平台真的是一言难尽          0\n",
            "10440  老师光站在那里说，谁能知道，他到底在说具体版面上的哪个地方呢？应该用个小棒指出来自己讲的知识...          0\n",
            "2997                                              总体来说不错          1\n",
            "3047                 老师好！课太棒了！刘宪权教授的刑法学课程录像现在在哪里可以看？谢谢您！          1\n",
            "6313   以前学过，但此次收获更多。\\n尤其是10分钟左右的课程让人注意力集中，能够牢牢把握知识点，值...          1\n",
            "2726                                          英语慕课使我受益匪浅          0\n",
            "174                            照着ppt读，完全没有讲解的地方，语速还很快，差评          0\n",
            "1259                                          课件很全，讲的也很好          1\n",
            "10445                      感觉老师没有备课，讲得太枯燥，像是跟着ppt念，思维跟不上          0\n",
            "6489                                        详细 ，简单，非常实用。          1\n",
            "5278                                          老师举的例子很丰富。          1\n",
            "5493                                          太枯燥了，难以理解。          0\n",
            "8432                                      课程安排合理，老师高屋建瓴！          1\n",
            "2624                         王辉老师讲课炒鸡棒，课堂上没学到的知识在这里得到了补充          1\n",
            "3947                                         受益匪浅，懂得很多知识          1\n",
            "7632                                 系统识别能力很差，我打对的代码还说错了          0\n",
            "1164                                         赶紧倒闭，浪费时间\\n          0\n"
          ],
          "name": "stdout"
        }
      ]
    },
    {
      "cell_type": "code",
      "metadata": {
        "id": "QvgUXpaWfN_7"
      },
      "source": [
        "from sklearn.metrics import classification_report, confusion_matrix"
      ],
      "execution_count": 28,
      "outputs": []
    },
    {
      "cell_type": "code",
      "metadata": {
        "colab": {
          "base_uri": "https://localhost:8080/"
        },
        "id": "5jIjOoGzfzqm",
        "outputId": "a3b49c88-aca4-4b24-eb44-ecbd6c4c99fb"
      },
      "source": [
        "print(classification_report(test.sentiment, preds))"
      ],
      "execution_count": 29,
      "outputs": [
        {
          "output_type": "stream",
          "text": [
            "              precision    recall  f1-score   support\n",
            "\n",
            "           0       0.97      0.90      0.93      1065\n",
            "           1       0.92      0.98      0.95      1198\n",
            "\n",
            "    accuracy                           0.94      2263\n",
            "   macro avg       0.94      0.94      0.94      2263\n",
            "weighted avg       0.94      0.94      0.94      2263\n",
            "\n"
          ],
          "name": "stdout"
        }
      ]
    },
    {
      "cell_type": "code",
      "metadata": {
        "colab": {
          "base_uri": "https://localhost:8080/"
        },
        "id": "HW_MXWwVf72H",
        "outputId": "04165f09-2e2f-4796-c68b-1fbf522dfd14"
      },
      "source": [
        "print(confusion_matrix(test.sentiment, preds))"
      ],
      "execution_count": 30,
      "outputs": [
        {
          "output_type": "stream",
          "text": [
            "[[ 960  105]\n",
            " [  29 1169]]\n"
          ],
          "name": "stdout"
        }
      ]
    }
  ]
}