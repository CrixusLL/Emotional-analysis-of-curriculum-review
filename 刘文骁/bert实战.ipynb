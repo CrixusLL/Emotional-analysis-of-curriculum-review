{
 "cells": [
  {
   "cell_type": "code",
   "execution_count": 1,
   "metadata": {},
   "outputs": [],
   "source": [
    "#part2: bert feature-base\n",
    "import numpy as np\n",
    "import pandas as pd\n",
    "from sklearn.model_selection import train_test_split\n",
    "from sklearn.linear_model import LogisticRegression\n",
    "from sklearn.model_selection import GridSearchCV\n",
    "from sklearn.model_selection import cross_val_score\n",
    "import torch\n",
    "import transformers as tfs\n",
    "import warnings\n",
    "\n",
    "warnings.filterwarnings('ignore')"
   ]
  },
  {
   "cell_type": "code",
   "execution_count": 2,
   "metadata": {},
   "outputs": [],
   "source": [
    "train_df = pd.read_csv('https://github.com/clairett/pytorch-sentiment-classification/raw/master/data/SST2/train.tsv', delimiter='\\t', header=None)"
   ]
  },
  {
   "cell_type": "code",
   "execution_count": 3,
   "metadata": {},
   "outputs": [
    {
     "name": "stdout",
     "output_type": "stream",
     "text": [
      "Train set shape: (3000, 2)\n"
     ]
    }
   ],
   "source": [
    "train_set = train_df[:3000]\n",
    "\n",
    "print(\"Train set shape:\", train_set.shape)"
   ]
  },
  {
   "cell_type": "code",
   "execution_count": 4,
   "metadata": {},
   "outputs": [
    {
     "data": {
      "text/plain": [
       "1    1565\n",
       "0    1435\n",
       "Name: 1, dtype: int64"
      ]
     },
     "execution_count": 4,
     "metadata": {},
     "output_type": "execute_result"
    }
   ],
   "source": [
    "train_set[1].value_counts()"
   ]
  },
  {
   "cell_type": "code",
   "execution_count": null,
   "metadata": {},
   "outputs": [
    {
     "data": {
      "application/vnd.jupyter.widget-view+json": {
       "model_id": "13c209efddb246609a9b22d476ee1498",
       "version_major": 2,
       "version_minor": 0
      },
      "text/plain": [
       "Downloading:   0%|          | 0.00/226k [00:00<?, ?B/s]"
      ]
     },
     "metadata": {},
     "output_type": "display_data"
    },
    {
     "data": {
      "application/vnd.jupyter.widget-view+json": {
       "model_id": "16d50dcc0f474f59b2beb2368dab1d34",
       "version_major": 2,
       "version_minor": 0
      },
      "text/plain": [
       "Downloading:   0%|          | 0.00/28.0 [00:00<?, ?B/s]"
      ]
     },
     "metadata": {},
     "output_type": "display_data"
    },
    {
     "data": {
      "application/vnd.jupyter.widget-view+json": {
       "model_id": "37c88f0c26154932b350bc4fe89eb281",
       "version_major": 2,
       "version_minor": 0
      },
      "text/plain": [
       "Downloading:   0%|          | 0.00/455k [00:00<?, ?B/s]"
      ]
     },
     "metadata": {},
     "output_type": "display_data"
    },
    {
     "data": {
      "application/vnd.jupyter.widget-view+json": {
       "model_id": "6a5db1aa14cd450eaef40699938190f5",
       "version_major": 2,
       "version_minor": 0
      },
      "text/plain": [
       "Downloading:   0%|          | 0.00/570 [00:00<?, ?B/s]"
      ]
     },
     "metadata": {},
     "output_type": "display_data"
    },
    {
     "data": {
      "application/vnd.jupyter.widget-view+json": {
       "model_id": "c8528129731e42519e0ed7ceb51a35ce",
       "version_major": 2,
       "version_minor": 0
      },
      "text/plain": [
       "Downloading:   0%|          | 0.00/420M [00:00<?, ?B/s]"
      ]
     },
     "metadata": {},
     "output_type": "display_data"
    }
   ],
   "source": [
    "model_class, tokenizer_class, pretrained_weights = (tfs.BertModel, tfs.BertTokenizer, 'bert-base-uncased')\n",
    "tokenizer = tokenizer_class.from_pretrained(pretrained_weights)\n",
    "model = model_class.from_pretrained(pretrained_weights)"
   ]
  },
  {
   "cell_type": "code",
   "execution_count": null,
   "metadata": {},
   "outputs": [],
   "source": [
    "train_tokenized = train_set[0].apply((lambda x: tokenizer.encode(x, add_special_tokens=True)))"
   ]
  },
  {
   "cell_type": "code",
   "execution_count": null,
   "metadata": {},
   "outputs": [],
   "source": [
    "train_max_len = 0\n",
    "for i in train_tokenized.values:\n",
    "    if len(i) > train_max_len:\n",
    "        train_max_len = len(i)\n",
    "\n",
    "train_padded = np.array([i + [0] * (train_max_len-len(i)) for i in train_tokenized.values])\n",
    "print(\"train set shape:\",train_padded.shape)"
   ]
  },
  {
   "cell_type": "code",
   "execution_count": null,
   "metadata": {},
   "outputs": [],
   "source": [
    "print(train_padded[0])\n",
    "train_attention_mask = np.where(train_padded != 0, 1, 0)\n",
    "print(train_attention_mask[0])"
   ]
  },
  {
   "cell_type": "code",
   "execution_count": null,
   "metadata": {},
   "outputs": [],
   "source": [
    "# 训练集\n",
    "train_input_ids = torch.tensor(train_padded).long()\n",
    "train_attention_mask = torch.tensor(train_attention_mask).long()\n",
    "with torch.no_grad():\n",
    "    train_last_hidden_states = model(train_input_ids, attention_mask=train_attention_mask)"
   ]
  },
  {
   "cell_type": "code",
   "execution_count": null,
   "metadata": {},
   "outputs": [],
   "source": [
    "train_last_hidden_states[0].size()"
   ]
  },
  {
   "cell_type": "code",
   "execution_count": null,
   "metadata": {},
   "outputs": [],
   "source": [
    "train_features = train_last_hidden_states[0][:,0,:].numpy()\n",
    "train_labels = train_set[1]"
   ]
  },
  {
   "cell_type": "code",
   "execution_count": null,
   "metadata": {},
   "outputs": [],
   "source": [
    "train_features, test_features, train_labels, test_labels = train_test_split(train_features, train_labels)"
   ]
  },
  {
   "cell_type": "code",
   "execution_count": null,
   "metadata": {},
   "outputs": [],
   "source": [
    "lr_clf = LogisticRegression()\n",
    "lr_clf.fit(train_features, train_labels)"
   ]
  },
  {
   "cell_type": "code",
   "execution_count": null,
   "metadata": {},
   "outputs": [],
   "source": [
    "lr_clf.score(test_features, test_labels)"
   ]
  },
  {
   "cell_type": "code",
   "execution_count": null,
   "metadata": {},
   "outputs": [],
   "source": [
    "#part 2 - bert fine-tuned\n",
    "import torch\n",
    "from torch import nn\n",
    "from torch import optim\n",
    "import transformers as tfs\n",
    "import math\n",
    "\n",
    "class BertClassificationModel(nn.Module):\n",
    "    def __init__(self):\n",
    "        super(BertClassificationModel, self).__init__()   \n",
    "        model_class, tokenizer_class, pretrained_weights = (tfs.BertModel, tfs.BertTokenizer, 'bert-base-uncased')         \n",
    "        self.tokenizer = tokenizer_class.from_pretrained(pretrained_weights)\n",
    "        self.bert = model_class.from_pretrained(pretrained_weights)\n",
    "        self.dense = nn.Linear(768, 2)  #bert默认的隐藏单元数是768， 输出单元是2，表示二分类\n",
    "        \n",
    "    def forward(self, batch_sentences):\n",
    "        #print(batch_sentences[4])\n",
    "        batch_tokenized = self.tokenizer.batch_encode_plus(batch_sentences, add_special_tokens=True,\n",
    "                                max_len=66, pad_to_max_length=True)      #tokenize、add special token、pad\n",
    "        input_ids = torch.tensor(batch_tokenized['input_ids'])\n",
    "        attention_mask = torch.tensor(batch_tokenized['attention_mask'])\n",
    "        bert_output = self.bert(input_ids, attention_mask=attention_mask)\n",
    "        bert_cls_hidden_state = bert_output[0][:,0,:]       #提取[CLS]对应的隐藏状态\n",
    "        linear_output = self.dense(bert_cls_hidden_state)\n",
    "        return linear_output"
   ]
  },
  {
   "cell_type": "code",
   "execution_count": null,
   "metadata": {},
   "outputs": [],
   "source": [
    "sentences = train_set[0].values\n",
    "targets = train_set[1].values\n",
    "train_inputs, test_inputs, train_targets, test_targets = train_test_split(sentences, targets)\n",
    "\n",
    "batch_size = 64\n",
    "batch_count = int(len(train_inputs) / batch_size)\n",
    "batch_train_inputs, batch_train_targets = [], []\n",
    "for i in range(batch_count):\n",
    "    batch_train_inputs.append(train_inputs[i*batch_size : (i+1)*batch_size])\n",
    "    batch_train_targets.append(train_targets[i*batch_size : (i+1)*batch_size])"
   ]
  },
  {
   "cell_type": "code",
   "execution_count": null,
   "metadata": {},
   "outputs": [],
   "source": [
    "#train the model\n",
    "epochs = 3\n",
    "lr = 0.01\n",
    "print_every_batch = 10\n",
    "bert_classifier_model = BertClassificationModel()\n",
    "optimizer = optim.SGD(bert_classifier_model.parameters(), lr=lr)\n",
    "criterion = nn.CrossEntropyLoss()\n",
    "\n",
    "for epoch in range(epochs):\n",
    "    print_avg_loss = 0\n",
    "    for i in range(batch_count):\n",
    "        inputs = batch_train_inputs[i]\n",
    "        labels = torch.tensor(batch_train_targets[i])\n",
    "        optimizer.zero_grad()\n",
    "        outputs = bert_classifier_model(inputs)\n",
    "        loss = criterion(outputs, labels)\n",
    "        loss.backward()\n",
    "        optimizer.step()\n",
    "        \n",
    "        print_avg_loss += loss.item()\n",
    "        if i % print_every_batch == (print_every_batch-1):\n",
    "            print(\"Batch: %d, Loss: %.4f\" % ((i+1), print_avg_loss/print_every_batch))\n",
    "            print_avg_loss = 0\n",
    "        "
   ]
  },
  {
   "cell_type": "code",
   "execution_count": null,
   "metadata": {},
   "outputs": [],
   "source": [
    "# eval the trained model\n",
    "total = len(test_inputs)\n",
    "hit = 0\n",
    "with torch.no_grad():\n",
    "    for i in range(total):\n",
    "        outputs = bert_classifier_model([test_inputs[i]])\n",
    "        _, predicted = torch.max(outputs, 1)\n",
    "        if predicted == test_targets[i]:\n",
    "            hit += 1\n",
    "\n",
    "print(\"Accuracy: %.2f%%\" % (hit / total * 100))"
   ]
  },
  {
   "cell_type": "code",
   "execution_count": null,
   "metadata": {},
   "outputs": [],
   "source": []
  }
 ],
 "metadata": {
  "kernelspec": {
   "display_name": "Python 3",
   "language": "python",
   "name": "python3"
  },
  "language_info": {
   "codemirror_mode": {
    "name": "ipython",
    "version": 3
   },
   "file_extension": ".py",
   "mimetype": "text/x-python",
   "name": "python",
   "nbconvert_exporter": "python",
   "pygments_lexer": "ipython3",
   "version": "3.8.8"
  }
 },
 "nbformat": 4,
 "nbformat_minor": 2
}
